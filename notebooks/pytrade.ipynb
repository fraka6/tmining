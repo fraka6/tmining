{
 "cells": [
  {
   "cell_type": "code",
   "execution_count": 1,
   "metadata": {
    "collapsed": false
   },
   "outputs": [
    {
     "name": "stderr",
     "output_type": "stream",
     "text": [
      "/home/francis/anaconda/lib/python2.7/site-packages/pandas/io/data.py:33: FutureWarning: \n",
      "The pandas.io.data module is moved to a separate package (pandas-datareader) and will be removed from pandas in a future version.\n",
      "After installing the pandas-datareader package (https://github.com/pydata/pandas-datareader), you can change the import ``from pandas.io import data, wb`` to ``from pandas_datareader import data, wb``.\n",
      "  FutureWarning)\n",
      "WARNING (theano.configdefaults): g++ not detected ! Theano will be unable to execute optimized C-implementations (for both CPU and GPU) and will default to Python implementations. Performance will be severely degraded. To remove this warning, set Theano flags cxx to an empty string.\n",
      "WARNING:theano.configdefaults:g++ not detected ! Theano will be unable to execute optimized C-implementations (for both CPU and GPU) and will default to Python implementations. Performance will be severely degraded. To remove this warning, set Theano flags cxx to an empty string.\n",
      "/home/francis/work/tmining/pytrade/util/evaluate.py:233: SettingWithCopyWarning: \n",
      "A value is trying to be set on a copy of a slice from a DataFrame.\n",
      "Try using .loc[row_indexer,col_indexer] = value instead\n",
      "\n",
      "See the caveats in the documentation: http://pandas.pydata.org/pandas-docs/stable/indexing.html#indexing-view-versus-copy\n",
      "  self.data['shares'] = self.shares\n",
      "/home/francis/work/tmining/pytrade/util/evaluate.py:234: SettingWithCopyWarning: \n",
      "A value is trying to be set on a copy of a slice from a DataFrame.\n",
      "Try using .loc[row_indexer,col_indexer] = value instead\n",
      "\n",
      "See the caveats in the documentation: http://pandas.pydata.org/pandas-docs/stable/indexing.html#indexing-view-versus-copy\n",
      "  self.data['cash'] = self.cash\n",
      "/home/francis/work/tmining/pytrade/util/evaluate.py:235: SettingWithCopyWarning: \n",
      "A value is trying to be set on a copy of a slice from a DataFrame.\n",
      "Try using .loc[row_indexer,col_indexer] = value instead\n",
      "\n",
      "See the caveats in the documentation: http://pandas.pydata.org/pandas-docs/stable/indexing.html#indexing-view-versus-copy\n",
      "  self.data['trade'] = self.trades\n",
      "/home/francis/work/tmining/pytrade/util/evaluate.py:236: SettingWithCopyWarning: \n",
      "A value is trying to be set on a copy of a slice from a DataFrame.\n",
      "Try using .loc[row_indexer,col_indexer] = value instead\n",
      "\n",
      "See the caveats in the documentation: http://pandas.pydata.org/pandas-docs/stable/indexing.html#indexing-view-versus-copy\n",
      "  self.data['fees'] = self.fees\n",
      "/home/francis/work/tmining/pytrade/util/evaluate.py:237: SettingWithCopyWarning: \n",
      "A value is trying to be set on a copy of a slice from a DataFrame.\n",
      "Try using .loc[row_indexer,col_indexer] = value instead\n",
      "\n",
      "See the caveats in the documentation: http://pandas.pydata.org/pandas-docs/stable/indexing.html#indexing-view-versus-copy\n",
      "  self.data['value'] = self.data['shares'] * self.data['Open']#TODO['Adj Close']\n",
      "/home/francis/work/tmining/pytrade/util/evaluate.py:238: SettingWithCopyWarning: \n",
      "A value is trying to be set on a copy of a slice from a DataFrame.\n",
      "Try using .loc[row_indexer,col_indexer] = value instead\n",
      "\n",
      "See the caveats in the documentation: http://pandas.pydata.org/pandas-docs/stable/indexing.html#indexing-view-versus-copy\n",
      "  self.data['total'] = self.data['cash']+self.data['value']\n"
     ]
    },
    {
     "name": "stdout",
     "output_type": "stream",
     "text": [
      "Using matplotlib backend: Qt4Agg\n",
      "Populating the interactive namespace from numpy and matplotlib\n",
      "Using matplotlib backend: Qt4Agg\n",
      "            cash       shares  value      trade  fees  Open    total      pnl     \n",
      "Date                                                                              \n",
      "2013-10-14  10000.000  40       7188.800   0        0  175.00  17188.800     0.000\n",
      "2013-10-15  10916.400  35       6484.800  -5       10  185.28  17401.200   -10.000\n",
      "2013-10-16  12755.400  25       4622.500 -10       20  184.90  17377.900   -18.100\n",
      "2013-10-17  13663.100  20       3670.800  -5       30  183.54  17333.900    -7.700\n",
      "2013-10-18  15494.600  10       1841.500 -10       40  184.15  17336.100   -29.900\n",
      "2013-10-21  16401.000   5        916.400  -5       50  183.28  17317.400   -13.800\n",
      "2013-10-22  15368.000  11       1875.500   6       60  170.50  17243.500   423.500\n",
      "2013-10-23  13331.080  23       3884.930  12       70  168.91  17216.010   459.610\n",
      "2013-10-24  12331.080  29       4785.000   6       80  165.00  17116.080   516.080\n",
      "2013-10-25  13366.340  23       4006.830  -6       90  174.21  17373.170   404.770\n",
      "2013-10-28  15398.500  11       1871.980 -12      100  170.18  17270.480   463.280\n",
      "2013-10-29  14411.940  17       2766.920   6      110  162.76  17178.860   668.460\n",
      "2013-10-30  15389.720  11       1810.930  -6      120  164.63  17200.650   615.450\n",
      "2013-10-31  14445.700  17       2646.390   6      130  155.67  17092.090   865.290\n",
      "2013-11-01  15413.700  11       1793.000  -6      140  163.00  17206.700   686.700\n",
      "2013-11-04  17218.700   0          0.000 -11      150  165.00  17218.700   618.700\n",
      "2013-11-05  17208.700   0          0.000  -0      160  180.00  17208.700     8.700\n",
      "2013-11-06  16269.840   6        928.860   6      170  154.81  17198.700  1006.300\n",
      "2013-11-07  14241.180  20       2883.800  14      180  144.19  17124.980  1357.380\n",
      "2013-11-08  13275.820  27       3684.960   7      190  136.48  16960.780  1501.580\n",
      "2013-11-11  11291.820  41       5781.000  14      200  141.00  17072.820  1432.820\n",
      "2013-11-12  12294.650  34       4919.460  -7      210  144.69  17214.110  1426.510\n",
      "2013-11-13  11298.770  41       5774.440   7      220  140.84  17073.210  1439.610\n",
      "2013-11-14   9343.890  55       7640.600  14      230  138.92  16984.490  1427.690\n",
      "2013-11-15   8375.940  62       8484.700   7      240  136.85  16860.640  1386.640\n",
      "2013-11-18   6472.160  76      10280.520  14      250  135.27  16752.680  1341.880\n",
      "2013-11-19   5506.720  84      10032.120   8      260  119.43  15538.840   761.640\n",
      "2013-11-20   6505.360  76       9582.080  -8      270  126.08  16087.440  1044.240\n",
      "2013-11-21   8461.600  60       7373.400 -16      280  122.89  15835.000   919.400\n",
      "2013-11-22   9424.240  52       6322.160  -8      290  121.58  15746.400   883.200\n",
      "...               ...     ...        ...    ...   ...     ...        ...       ...\n",
      "2015-09-14  14435.220  34       8537.400   4     4820  251.10  22972.621  2928.620\n",
      "2015-09-15  12403.220  42      10615.500   8     4830  252.75  23018.720  2908.720\n",
      "2015-09-16  11381.060  46      11639.840   4     4840  253.04  23020.900  2899.300\n",
      "2015-09-17  12426.900  42      11086.320  -4     4850  263.96  23513.220  2954.820\n",
      "2015-09-18  11385.060  46      11866.160   4     4860  257.96  23251.220  2932.820\n",
      "2015-09-21  12430.980  42      11087.160  -4     4870  263.98  23518.141  2958.941\n",
      "2015-09-22  11384.861  46      11915.380   4     4880  259.03  23300.240  2939.040\n",
      "2015-09-23  12422.661  42      11001.901  -4     4890  261.95  23424.561  2946.561\n",
      "2015-09-24  11374.541  46      11938.380   4     4900  259.53  23312.921  2931.721\n",
      "2015-09-25  12430.980  42      11197.619  -4     4910  266.61  23628.600  2964.200\n",
      "2015-09-28  11391.580  46      11838.100   4     4920  257.35  23229.681  2935.681\n",
      "2015-09-29   9377.900  54      13524.840   8     4930  250.46  22902.741  2884.341\n",
      "2015-09-30  10375.900  50      12600.000  -4     4940  252.00  22975.900  2895.900\n",
      "2015-10-01   9375.860  54      13365.540   4     4950  247.51  22741.400  2841.000\n",
      "2015-10-02   7481.060  62      14607.200   8     4960  235.60  22088.261  2664.261\n",
      "2015-10-05   8466.420  58      14432.720  -4     4970  248.84  22899.140  2945.540\n",
      "2015-10-06  10376.420  50      12000.000  -8     4980  240.00  22376.420  2776.420\n",
      "2015-10-07  11312.940  46      10884.980  -4     4990  236.63  22197.921  2732.720\n",
      "2015-10-08  10382.620  50      11504.000   4     5000  230.08  21886.620  2683.420\n",
      "2015-10-09   8163.320  60      13255.800  10     5010  220.93  21419.120  2581.920\n",
      "2015-10-12   9045.280  56      12487.440  -4     5020  222.99  21532.721  2613.121\n",
      "2015-10-13   7968.880  61      13010.080   5     5030  213.28  20978.960  2447.760\n",
      "2015-10-14   9062.230  56      12357.520  -5     5040  220.67  21419.750  2592.950\n",
      "2015-10-15  11216.530  46       9955.780 -10     5050  216.43  21172.310  2515.110\n",
      "2015-10-16  12098.690  42       9367.680  -4     5060  223.04  21466.370  2544.770\n",
      "2015-10-19  13900.690  34       7701.000  -8     5070  226.50  21601.690  2541.690\n",
      "2015-10-20  14801.570  30       6831.600  -4     5080  227.72  21633.170  2524.370\n",
      "2015-10-21  13731.620  35       7419.650   5     5090  211.99  21151.271  2671.670\n",
      "2015-10-22  11606.020  45       9520.200  10     5100  211.56  21126.220  2663.820\n",
      "2015-10-23  12671.020  40       8600.000  -5     5110  215.00  21271.020  2671.020\n",
      "\n",
      "[512 rows x 8 columns]\n"
     ]
    },
    {
     "name": "stderr",
     "output_type": "stream",
     "text": [
      "/home/francis/work/tmining/pytrade/util/evaluate.py:239: SettingWithCopyWarning: \n",
      "A value is trying to be set on a copy of a slice from a DataFrame.\n",
      "Try using .loc[row_indexer,col_indexer] = value instead\n",
      "\n",
      "See the caveats in the documentation: http://pandas.pydata.org/pandas-docs/stable/indexing.html#indexing-view-versus-copy\n",
      "  self.data['pnl'] = self.data['total']- (self.init_cash+self.init_shares*self.data['Open'])\n"
     ]
    }
   ],
   "source": [
    "%pylab \n",
    "%matplotlib\n",
    "# 1) generate ideal buy sales order\n",
    "import pytrade\n",
    "from pytrade.examples.run import main as run\n",
    "run(\"-s TSLA --best --save --charts --details --months 36\")"
   ]
  },
  {
   "cell_type": "code",
   "execution_count": null,
   "metadata": {
    "collapsed": true
   },
   "outputs": [],
   "source": [
    "# 1) train model\n",
    "run(\"-s TSLA --train\")"
   ]
  },
  {
   "cell_type": "code",
   "execution_count": 2,
   "metadata": {
    "collapsed": true
   },
   "outputs": [],
   "source": [
    "# test trained model\n",
    "run(\"-s TSLA --load TSLA\")"
   ]
  }
 ],
 "metadata": {
  "kernelspec": {
   "display_name": "Python 2",
   "language": "python",
   "name": "python2"
  },
  "language_info": {
   "codemirror_mode": {
    "name": "ipython",
    "version": 2
   },
   "file_extension": ".py",
   "mimetype": "text/x-python",
   "name": "python",
   "nbconvert_exporter": "python",
   "pygments_lexer": "ipython2",
   "version": "2.7.10"
  }
 },
 "nbformat": 4,
 "nbformat_minor": 0
}
